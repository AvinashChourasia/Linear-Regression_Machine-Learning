{
 "cells": [
  {
   "cell_type": "markdown",
   "id": "a9cdd7a5",
   "metadata": {},
   "source": [
    "# **Evaluating Regression Model using Rsquared & Adjusted Rsquared**"
   ]
  },
  {
   "cell_type": "code",
   "execution_count": 1,
   "id": "94b45c5d",
   "metadata": {},
   "outputs": [],
   "source": [
    "import pandas as pd\n",
    "from sklearn.linear_model import LinearRegression \n",
    "import matplotlib.pyplot as plt"
   ]
  },
  {
   "cell_type": "code",
   "execution_count": 2,
   "id": "032f4bbf",
   "metadata": {},
   "outputs": [],
   "source": [
    "dataset = pd.read_csv('dataset1.csv')"
   ]
  },
  {
   "cell_type": "code",
   "execution_count": 3,
   "id": "25fbd6dc",
   "metadata": {},
   "outputs": [
    {
     "name": "stdout",
     "output_type": "stream",
     "text": [
      "(10, 2)\n",
      "   area  price\n",
      "0  1000   2245\n",
      "1  2000   4575\n",
      "2  3000   6874\n",
      "3  4000   8878\n",
      "4  5000  10589\n"
     ]
    }
   ],
   "source": [
    "print(dataset.shape)\n",
    "print(dataset.head(5))"
   ]
  },
  {
   "cell_type": "code",
   "execution_count": 4,
   "id": "ecff395d",
   "metadata": {},
   "outputs": [
    {
     "data": {
      "text/plain": [
       "<matplotlib.collections.PathCollection at 0x292f76e8df0>"
      ]
     },
     "execution_count": 4,
     "metadata": {},
     "output_type": "execute_result"
    },
    {
     "data": {
      "image/png": "[encoded data removed]",
      "text/plain": [
       "<Figure size 432x288 with 1 Axes>"
      ]
     },
     "metadata": {
      "needs_background": "light"
     },
     "output_type": "display_data"
    }
   ],
   "source": [
    "plt.xlabel('area')\n",
    "plt.ylabel('price')\n",
    "plt.scatter(dataset.area,dataset.price,color='red',marker='*')"
   ]
  },
  {
   "cell_type": "code",
   "execution_count": 5,
   "id": "4fe03d50",
   "metadata": {},
   "outputs": [
    {
     "data": {
      "text/html": [
       "<div>\n",
       "<style scoped>\n",
       "    .dataframe tbody tr th:only-of-type {\n",
       "        vertical-align: middle;\n",
       "    }\n",
       "\n",
       "    .dataframe tbody tr th {\n",
       "        vertical-align: top;\n",
       "    }\n",
       "\n",
       "    .dataframe thead th {\n",
       "        text-align: right;\n",
       "    }\n",
       "</style>\n",
       "<table border=\"1\" class=\"dataframe\">\n",
       "  <thead>\n",
       "    <tr style=\"text-align: right;\">\n",
       "      <th></th>\n",
       "      <th>area</th>\n",
       "    </tr>\n",
       "  </thead>\n",
       "  <tbody>\n",
       "    <tr>\n",
       "      <th>0</th>\n",
       "      <td>1000</td>\n",
       "    </tr>\n",
       "    <tr>\n",
       "      <th>1</th>\n",
       "      <td>2000</td>\n",
       "    </tr>\n",
       "    <tr>\n",
       "      <th>2</th>\n",
       "      <td>3000</td>\n",
       "    </tr>\n",
       "    <tr>\n",
       "      <th>3</th>\n",
       "      <td>4000</td>\n",
       "    </tr>\n",
       "    <tr>\n",
       "      <th>4</th>\n",
       "      <td>5000</td>\n",
       "    </tr>\n",
       "    <tr>\n",
       "      <th>5</th>\n",
       "      <td>6000</td>\n",
       "    </tr>\n",
       "    <tr>\n",
       "      <th>6</th>\n",
       "      <td>7000</td>\n",
       "    </tr>\n",
       "    <tr>\n",
       "      <th>7</th>\n",
       "      <td>8000</td>\n",
       "    </tr>\n",
       "    <tr>\n",
       "      <th>8</th>\n",
       "      <td>9000</td>\n",
       "    </tr>\n",
       "    <tr>\n",
       "      <th>9</th>\n",
       "      <td>10000</td>\n",
       "    </tr>\n",
       "  </tbody>\n",
       "</table>\n",
       "</div>"
      ],
      "text/plain": [
       "    area\n",
       "0   1000\n",
       "1   2000\n",
       "2   3000\n",
       "3   4000\n",
       "4   5000\n",
       "5   6000\n",
       "6   7000\n",
       "7   8000\n",
       "8   9000\n",
       "9  10000"
      ]
     },
     "execution_count": 5,
     "metadata": {},
     "output_type": "execute_result"
    }
   ],
   "source": [
    "X = dataset.drop('price',axis='columns')\n",
    "X"
   ]
  },
  {
   "cell_type": "code",
   "execution_count": 6,
   "id": "ad3dc7fe",
   "metadata": {},
   "outputs": [
    {
     "data": {
      "text/plain": [
       "0     2245\n",
       "1     4575\n",
       "2     6874\n",
       "3     8878\n",
       "4    10589\n",
       "5    12457\n",
       "6    14785\n",
       "7    16785\n",
       "8    18958\n",
       "9    20789\n",
       "Name: price, dtype: int64"
      ]
     },
     "execution_count": 6,
     "metadata": {},
     "output_type": "execute_result"
    }
   ],
   "source": [
    "Y = dataset.price\n",
    "Y"
   ]
  },
  {
   "cell_type": "markdown",
   "id": "fa579171",
   "metadata": {},
   "source": [
    "# *Splitting Dataset for Testing our Model*"
   ]
  },
  {
   "cell_type": "code",
   "execution_count": 7,
   "id": "623fe305",
   "metadata": {},
   "outputs": [],
   "source": [
    "from sklearn.model_selection import train_test_split\n",
    "x_train,x_test,y_train,y_test = train_test_split(X,Y,test_size=0.20,random_state=0)"
   ]
  },
  {
   "cell_type": "markdown",
   "id": "216edc23",
   "metadata": {},
   "source": [
    "# *Training Dataset using Linear Regression*"
   ]
  },
  {
   "cell_type": "code",
   "execution_count": 9,
   "id": "56993567",
   "metadata": {},
   "outputs": [
    {
     "data": {
      "text/plain": [
       "LinearRegression()"
      ]
     },
     "execution_count": 9,
     "metadata": {},
     "output_type": "execute_result"
    }
   ],
   "source": [
    "model = LinearRegression()\n",
    "model.fit(x_train,y_train)"
   ]
  },
  {
   "cell_type": "markdown",
   "id": "d7df1de1",
   "metadata": {},
   "source": [
    "# *Visualizing Linear Regression results*"
   ]
  },
  {
   "cell_type": "code",
   "execution_count": 11,
   "id": "f54c17b5",
   "metadata": {},
   "outputs": [
    {
     "data": {
      "image/png": "[encoded data removed]",
      "text/plain": [
       "<Figure size 432x288 with 1 Axes>"
      ]
     },
     "metadata": {
      "needs_background": "light"
     },
     "output_type": "display_data"
    }
   ],
   "source": [
    "plt.scatter(X,Y, color=\"red\",marker='*')\n",
    "plt.plot(X, model.predict(X))\n",
    "plt.title(\"Linear Regression\")\n",
    "plt.xlabel(\"Area\")\n",
    "plt.ylabel(\"Price\")\n",
    "plt.show()"
   ]
  },
  {
   "cell_type": "markdown",
   "id": "ac9aa123",
   "metadata": {},
   "source": [
    "# *R-Squared Score*"
   ]
  },
  {
   "cell_type": "code",
   "execution_count": 12,
   "id": "4dd56a45",
   "metadata": {},
   "outputs": [
    {
     "name": "stdout",
     "output_type": "stream",
     "text": [
      "0.9980555305079885\n"
     ]
    }
   ],
   "source": [
    "rsquared = model.score(x_test, y_test)\n",
    "print(rsquared)"
   ]
  },
  {
   "cell_type": "markdown",
   "id": "7a297c1a",
   "metadata": {},
   "source": [
    "# *Adjusted R Squared of the Model*"
   ]
  },
  {
   "cell_type": "code",
   "execution_count": 13,
   "id": "63cff30f",
   "metadata": {},
   "outputs": [
    {
     "name": "stdout",
     "output_type": "stream",
     "text": [
      "0.997812471821487\n"
     ]
    }
   ],
   "source": [
    "n=len(dataset) #Length of Total dataset\n",
    "p=len(dataset.columns)-1 #length of Features\n",
    "adjr= 1-(1-rsquared)*(n-1)/(n-p-1)\n",
    "print(adjr)"
   ]
  },
  {
   "cell_type": "markdown",
   "id": "b9258f78",
   "metadata": {},
   "source": [
    "# *Prediction*"
   ]
  },
  {
   "cell_type": "code",
   "execution_count": 14,
   "id": "ca36c797",
   "metadata": {},
   "outputs": [
    {
     "name": "stdout",
     "output_type": "stream",
     "text": [
      "[13687.72504892]\n"
     ]
    }
   ],
   "source": [
    "x=6500\n",
    "LandAreainSqFt=[[x]]\n",
    "PredictedmodelResult = model.predict(LandAreainSqFt)\n",
    "print(PredictedmodelResult)"
   ]
  },
  {
   "cell_type": "code",
   "execution_count": null,
   "id": "cde39c9d",
   "metadata": {},
   "outputs": [],
   "source": []
  },
  {
   "cell_type": "code",
   "execution_count": null,
   "id": "43322a41",
   "metadata": {},
   "outputs": [],
   "source": []
  }
 ],
 "metadata": {
  "kernelspec": {
   "display_name": "Python 3 (ipykernel)",
   "language": "python",
   "name": "python3"
  },
  "language_info": {
   "codemirror_mode": {
    "name": "ipython",
    "version": 3
   },
   "file_extension": ".py",
   "mimetype": "text/x-python",
   "name": "python",
   "nbconvert_exporter": "python",
   "pygments_lexer": "ipython3",
   "version": "3.9.7"
  }
 },
 "nbformat": 4,
 "nbformat_minor": 5
}
